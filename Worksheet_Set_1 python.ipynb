{
 "cells": [
  {
   "cell_type": "markdown",
   "metadata": {},
   "source": [
    "# Woorksheet_set_1"
   ]
  },
  {
   "cell_type": "markdown",
   "metadata": {},
   "source": [
    "Q 11 to 15 Programming Answers"
   ]
  },
  {
   "cell_type": "code",
   "execution_count": 40,
   "metadata": {},
   "outputs": [
    {
     "name": "stdout",
     "output_type": "stream",
     "text": [
      "Enter n:5\n",
      "Factorial= 120\n"
     ]
    }
   ],
   "source": [
    "# Q11. finding a factorial number\n",
    "\n",
    "n=int(input('Enter n:'))\n",
    "f=1\n",
    "while n>=1:\n",
    "    f=f*n\n",
    "    n=n-1\n",
    "print('Factorial=',f)  "
   ]
  },
  {
   "cell_type": "code",
   "execution_count": 41,
   "metadata": {},
   "outputs": [
    {
     "name": "stdout",
     "output_type": "stream",
     "text": [
      "Enter The Number263\n",
      "263 is a Prime number\n"
     ]
    }
   ],
   "source": [
    "# Q12. finding a number is prime or composite\n",
    "\n",
    "number = int(input(\"Enter The Number\"))\n",
    "\n",
    "if number > 1:\n",
    "    for i in range(2,int(number/2)+1):\n",
    "        if (number % i == 0):\n",
    "            print(number, \"is a Composite Number\")\n",
    "            break\n",
    "    else:\n",
    "        print(number,\"is a Prime number\")\n",
    "\n",
    "# If the number is less than 1 it can't be Prime     \n",
    "else:\n",
    "        print(number,\"is not a Prime number\")\n"
   ]
  },
  {
   "cell_type": "code",
   "execution_count": 42,
   "metadata": {},
   "outputs": [
    {
     "name": "stdout",
     "output_type": "stream",
     "text": [
      "Enter string:dad\n",
      "The string is a palindrome\n"
     ]
    }
   ],
   "source": [
    "# Q 13. finding a string is palindrome\n",
    "\n",
    "X=input(\"Enter string:\")\n",
    "if(X==X[::-1]):\n",
    "   print(\"The string is a palindrome\")\n",
    "else:\n",
    "   print(\"The string isn't a palindrome\")"
   ]
  },
  {
   "cell_type": "code",
   "execution_count": 43,
   "metadata": {},
   "outputs": [
    {
     "name": "stdout",
     "output_type": "stream",
     "text": [
      "Enter a number:545\n",
      "The number is palindrome!\n"
     ]
    }
   ],
   "source": [
    "# Q13a.finding a number is palindrome while loop \n",
    "\n",
    "num=int(input(\"Enter a number:\"))\n",
    "temp=num\n",
    "rev=0\n",
    "while(num>0):\n",
    "    dig=num%10\n",
    "    rev=rev*10+dig\n",
    "    num=num//10\n",
    "if(temp==rev):\n",
    "    print(\"The number is palindrome!\")\n",
    "else:\n",
    "    print(\"Not a palindrome!\")"
   ]
  },
  {
   "cell_type": "code",
   "execution_count": 44,
   "metadata": {},
   "outputs": [
    {
     "name": "stdout",
     "output_type": "stream",
     "text": [
      "Enter the string: datatrained\n",
      "d,2\n",
      "a,3\n",
      "t,2\n",
      "r,1\n",
      "i,1\n",
      "n,1\n",
      "e,1\n"
     ]
    }
   ],
   "source": [
    "# Q15.print the frequency of each of the characters present in a given string.\n",
    "\n",
    "string=input(\"Enter the string: \")\n",
    "str=list(string)\n",
    "strlist=[]\n",
    "for j in str:\n",
    "    if j not in strlist:\n",
    "       strlist.append(j)\n",
    "       count=0\n",
    "       for i in range(len(str)):\n",
    "         if j==str[i]:\n",
    "           count+=1\n",
    "       print(\"{},{}\".format(j,count))"
   ]
  },
  {
   "cell_type": "code",
   "execution_count": null,
   "metadata": {},
   "outputs": [],
   "source": []
  }
 ],
 "metadata": {
  "kernelspec": {
   "display_name": "Python 3",
   "language": "python",
   "name": "python3"
  },
  "language_info": {
   "codemirror_mode": {
    "name": "ipython",
    "version": 3
   },
   "file_extension": ".py",
   "mimetype": "text/x-python",
   "name": "python",
   "nbconvert_exporter": "python",
   "pygments_lexer": "ipython3",
   "version": "3.8.5"
  }
 },
 "nbformat": 4,
 "nbformat_minor": 4
}
